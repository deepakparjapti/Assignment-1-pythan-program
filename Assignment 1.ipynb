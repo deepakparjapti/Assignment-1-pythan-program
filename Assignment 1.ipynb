{
 "cells": [
  {
   "cell_type": "markdown",
   "id": "178877ff",
   "metadata": {},
   "source": [
    "# Assignment 1\n"
   ]
  },
  {
   "cell_type": "code",
   "execution_count": null,
   "id": "cc03cc05",
   "metadata": {},
   "outputs": [],
   "source": [
    "Q1. Write a Python program that asks the user to enter\n",
    "their name and prints a greeting that says \"Hello,\n",
    "[name]"
   ]
  },
  {
   "cell_type": "code",
   "execution_count": 1,
   "id": "26472da6",
   "metadata": {},
   "outputs": [
    {
     "name": "stdout",
     "output_type": "stream",
     "text": [
      "Enter your name: deepak kumar\n",
      "Hello, deepak kumar\n"
     ]
    }
   ],
   "source": [
    "name = input(\"Enter your name: \")\n",
    "print(\"Hello, \" + name)"
   ]
  },
  {
   "cell_type": "code",
   "execution_count": null,
   "id": "b5447c0c",
   "metadata": {},
   "outputs": [],
   "source": [
    "Q2. Write a Python program that asks the user to enter\n",
    "their age and prints a message that says \"You are [age]\n",
    "years old\"?"
   ]
  },
  {
   "cell_type": "code",
   "execution_count": 2,
   "id": "2bc5a521",
   "metadata": {},
   "outputs": [
    {
     "name": "stdout",
     "output_type": "stream",
     "text": [
      "Enter your age: 29\n",
      "You are 29 years old\n"
     ]
    }
   ],
   "source": [
    "age = input(\"Enter your age: \")\n",
    "print(\"You are \" + age + \" years old\")"
   ]
  },
  {
   "cell_type": "code",
   "execution_count": null,
   "id": "18a93ab9",
   "metadata": {},
   "outputs": [],
   "source": [
    "Q3. Write a Python program that asks the user to enter\n",
    "two numbers, calculates their sum, and prints the result?"
   ]
  },
  {
   "cell_type": "code",
   "execution_count": 3,
   "id": "56aa7037",
   "metadata": {},
   "outputs": [
    {
     "name": "stdout",
     "output_type": "stream",
     "text": [
      "Enter the first number: 11\n",
      "Enter the second number: 22\n",
      "The sum of 11.0 and 22.0 is: 33.0\n"
     ]
    }
   ],
   "source": [
    "num1 = float(input(\"Enter the first number: \"))\n",
    "num2 = float(input(\"Enter the second number: \"))\n",
    "\n",
    "sum_result = num1 + num2\n",
    "\n",
    "print(\"The sum of\", num1, \"and\", num2, \"is:\", sum_result)"
   ]
  },
  {
   "cell_type": "code",
   "execution_count": null,
   "id": "d4879622",
   "metadata": {},
   "outputs": [],
   "source": [
    "Q4. Write a Python program that asks the user to enter a\n",
    "sentence and prints the sentence with every word\n",
    "capitalized?"
   ]
  },
  {
   "cell_type": "code",
   "execution_count": 4,
   "id": "45aa868a",
   "metadata": {},
   "outputs": [
    {
     "name": "stdout",
     "output_type": "stream",
     "text": [
      "Enter a sentence: my name is deepak\n",
      "Capitalized sentence: My Name Is Deepak\n"
     ]
    }
   ],
   "source": [
    "sentence = input(\"Enter a sentence: \")\n",
    "capitalized_sentence = sentence.title()\n",
    "print(\"Capitalized sentence:\", capitalized_sentence)"
   ]
  },
  {
   "cell_type": "code",
   "execution_count": null,
   "id": "9b950f51",
   "metadata": {},
   "outputs": [],
   "source": [
    "Q5. Write a Python program that asks the user to enter a\n",
    "string and checks whether the string is a palindrome or\n",
    "not?"
   ]
  },
  {
   "cell_type": "code",
   "execution_count": null,
   "id": "798f2f4f",
   "metadata": {},
   "outputs": [],
   "source": []
  },
  {
   "cell_type": "code",
   "execution_count": null,
   "id": "ecfc2018",
   "metadata": {},
   "outputs": [],
   "source": [
    "Q6. Write a Python program that asks the user to enter a\n",
    "temperature in Celsius and converts it to Fahrenheit?"
   ]
  },
  {
   "cell_type": "code",
   "execution_count": 5,
   "id": "4629e86b",
   "metadata": {},
   "outputs": [
    {
     "name": "stdout",
     "output_type": "stream",
     "text": [
      "Enter temperature in Celsius: 15\n",
      "Temperature in Fahrenheit: 59.0\n"
     ]
    }
   ],
   "source": [
    "celsius = float(input(\"Enter temperature in Celsius: \"))\n",
    "fahrenheit = (celsius * 9/5) + 32\n",
    "print(\"Temperature in Fahrenheit:\", fahrenheit)"
   ]
  },
  {
   "cell_type": "code",
   "execution_count": null,
   "id": "8f9e2ce0",
   "metadata": {},
   "outputs": [],
   "source": []
  }
 ],
 "metadata": {
  "kernelspec": {
   "display_name": "Python 3 (ipykernel)",
   "language": "python",
   "name": "python3"
  },
  "language_info": {
   "codemirror_mode": {
    "name": "ipython",
    "version": 3
   },
   "file_extension": ".py",
   "mimetype": "text/x-python",
   "name": "python",
   "nbconvert_exporter": "python",
   "pygments_lexer": "ipython3",
   "version": "3.11.3"
  }
 },
 "nbformat": 4,
 "nbformat_minor": 5
}
